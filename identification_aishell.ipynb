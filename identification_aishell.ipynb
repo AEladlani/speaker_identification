{
 "cells": [
  {
   "cell_type": "code",
   "execution_count": 1,
   "metadata": {
    "_cell_guid": "b1076dfc-b9ad-4769-8c92-a6c4dae69d19",
    "_uuid": "8f2839f25d086af736a60e9eeb907d3b93b6e0e5",
    "execution": {
     "iopub.execute_input": "2025-07-29T08:03:54.210959Z",
     "iopub.status.busy": "2025-07-29T08:03:54.210680Z",
     "iopub.status.idle": "2025-07-29T08:03:55.199097Z",
     "shell.execute_reply": "2025-07-29T08:03:55.198558Z",
     "shell.execute_reply.started": "2025-07-29T08:03:54.210935Z"
    }
   },
   "outputs": [],
   "source": [
    "### General imports ###\n",
    "import os\n",
    "import random\n",
    "from glob import glob\n",
    "import pickle\n",
    "import itertools\n",
    "import numpy as np\n",
    "from scipy.stats import zscore\n",
    "import sys\n",
    "import time\n",
    "from tqdm import tqdm\n",
    "### Graph imports ###\n",
    "import matplotlib.pyplot as plt\n",
    "from PIL import Image\n",
    "import seaborn as sns\n",
    "from IPython.display import Image as Imag\n",
    "### Audio import ###\n",
    "import librosa\n",
    "import IPython\n",
    "from IPython.display import Audio"
   ]
  },
  {
   "cell_type": "markdown",
   "metadata": {},
   "source": [
    "---\n",
    "#\n",
    "---\n",
    "#\n",
    "---\n",
    "\n",
    "# **AISHELL**\n",
    "\n",
    "---\n",
    "#\n",
    "---\n",
    "#\n",
    "---"
   ]
  },
  {
   "cell_type": "code",
   "execution_count": 64,
   "metadata": {
    "execution": {
     "iopub.execute_input": "2025-07-29T08:56:48.448906Z",
     "iopub.status.busy": "2025-07-29T08:56:48.448612Z",
     "iopub.status.idle": "2025-07-29T08:59:33.718911Z",
     "shell.execute_reply": "2025-07-29T08:59:33.718099Z",
     "shell.execute_reply.started": "2025-07-29T08:56:48.448887Z"
    }
   },
   "outputs": [
    {
     "name": "stdout",
     "output_type": "stream",
     "text": [
      "Extraction complete.\n"
     ]
    }
   ],
   "source": [
    "import tarfile\n",
    "import os\n",
    "\n",
    "# Path to the .tgz file\n",
    "tgz_path = '/kaggle/input/aishell/data_aishell.tgz'\n",
    "\n",
    "# Extraction destination\n",
    "extract_path = '/kaggle/working/data_aishell'\n",
    "\n",
    "# Create the directory if it doesn't exist\n",
    "os.makedirs(extract_path, exist_ok=True)\n",
    "\n",
    "# Extract the tar.gz file\n",
    "with tarfile.open(tgz_path, \"r:gz\") as tar:\n",
    "    tar.extractall(path=extract_path)\n",
    "\n",
    "print(\"Extraction complete.\")\n"
   ]
  },
  {
   "cell_type": "code",
   "execution_count": 67,
   "metadata": {
    "execution": {
     "iopub.execute_input": "2025-07-29T09:02:08.226932Z",
     "iopub.status.busy": "2025-07-29T09:02:08.226664Z",
     "iopub.status.idle": "2025-07-29T09:02:08.230932Z",
     "shell.execute_reply": "2025-07-29T09:02:08.230200Z",
     "shell.execute_reply.started": "2025-07-29T09:02:08.226912Z"
    }
   },
   "outputs": [],
   "source": [
    "import os\n",
    "import tarfile\n",
    "import shutil\n",
    "import random"
   ]
  },
  {
   "cell_type": "code",
   "execution_count": 68,
   "metadata": {
    "execution": {
     "iopub.execute_input": "2025-07-29T09:02:16.851336Z",
     "iopub.status.busy": "2025-07-29T09:02:16.850865Z",
     "iopub.status.idle": "2025-07-29T09:02:16.858109Z",
     "shell.execute_reply": "2025-07-29T09:02:16.857554Z",
     "shell.execute_reply.started": "2025-07-29T09:02:16.851314Z"
    }
   },
   "outputs": [
    {
     "data": {
      "text/plain": [
       "['S0735.tar.gz',\n",
       " 'S0106.tar.gz',\n",
       " 'S0029.tar.gz',\n",
       " 'S0020.tar.gz',\n",
       " 'S0111.tar.gz',\n",
       " 'S0916.tar.gz',\n",
       " 'S0067.tar.gz',\n",
       " 'S0112.tar.gz',\n",
       " 'S0163.tar.gz',\n",
       " 'S0170.tar.gz',\n",
       " 'S0167.tar.gz',\n",
       " 'S0046.tar.gz',\n",
       " 'S0754.tar.gz',\n",
       " 'S0165.tar.gz',\n",
       " 'S0069.tar.gz',\n",
       " 'S0208.tar.gz',\n",
       " 'S0130.tar.gz',\n",
       " 'S0133.tar.gz',\n",
       " 'S0161.tar.gz',\n",
       " 'S0044.tar.gz',\n",
       " 'S0661.tar.gz',\n",
       " 'S0154.tar.gz',\n",
       " 'S0242.tar.gz',\n",
       " 'S0342.tar.gz',\n",
       " 'S0019.tar.gz',\n",
       " 'S0095.tar.gz',\n",
       " 'S0172.tar.gz',\n",
       " 'S0182.tar.gz',\n",
       " 'S0421.tar.gz',\n",
       " 'S0059.tar.gz',\n",
       " 'S0022.tar.gz',\n",
       " 'S0748.tar.gz',\n",
       " 'S0423.tar.gz',\n",
       " 'S0217.tar.gz',\n",
       " 'S0032.tar.gz',\n",
       " 'S0768.tar.gz',\n",
       " 'S0128.tar.gz',\n",
       " 'S0715.tar.gz',\n",
       " 'S0214.tar.gz',\n",
       " 'S0731.tar.gz']"
      ]
     },
     "execution_count": 68,
     "metadata": {},
     "output_type": "execute_result"
    }
   ],
   "source": [
    "# Paths\n",
    "base_path = \"/kaggle/working/data_aishell/data_aishell/wav\"\n",
    "extracted_path = \"/kaggle/working/aishell_extracted\"\n",
    "os.makedirs(extracted_path, exist_ok=True)\n",
    "# List all .tar.gz files (users)\n",
    "all_tar_files = [f for f in os.listdir(base_path) if f.endswith(\".tar.gz\")]\n",
    "# Randomly select 40 users\n",
    "random.seed(42)  # for reproducibility\n",
    "selected_tar_files = random.sample(all_tar_files, 40)\n",
    "selected_tar_files"
   ]
  },
  {
   "cell_type": "code",
   "execution_count": 69,
   "metadata": {
    "execution": {
     "iopub.execute_input": "2025-07-29T09:02:22.987282Z",
     "iopub.status.busy": "2025-07-29T09:02:22.987008Z",
     "iopub.status.idle": "2025-07-29T09:02:46.796630Z",
     "shell.execute_reply": "2025-07-29T09:02:46.795917Z",
     "shell.execute_reply.started": "2025-07-29T09:02:22.987262Z"
    }
   },
   "outputs": [
    {
     "name": "stdout",
     "output_type": "stream",
     "text": [
      "Extracting S0735.tar.gz...\n",
      "Extracting S0106.tar.gz...\n",
      "Extracting S0029.tar.gz...\n",
      "Extracting S0020.tar.gz...\n",
      "Extracting S0111.tar.gz...\n",
      "Extracting S0916.tar.gz...\n",
      "Extracting S0067.tar.gz...\n",
      "Extracting S0112.tar.gz...\n",
      "Extracting S0163.tar.gz...\n",
      "Extracting S0170.tar.gz...\n",
      "Extracting S0167.tar.gz...\n",
      "Extracting S0046.tar.gz...\n",
      "Extracting S0754.tar.gz...\n",
      "Extracting S0165.tar.gz...\n",
      "Extracting S0069.tar.gz...\n",
      "Extracting S0208.tar.gz...\n",
      "Extracting S0130.tar.gz...\n",
      "Extracting S0133.tar.gz...\n",
      "Extracting S0161.tar.gz...\n",
      "Extracting S0044.tar.gz...\n",
      "Extracting S0661.tar.gz...\n",
      "Extracting S0154.tar.gz...\n",
      "Extracting S0242.tar.gz...\n",
      "Extracting S0342.tar.gz...\n",
      "Extracting S0019.tar.gz...\n",
      "Extracting S0095.tar.gz...\n",
      "Extracting S0172.tar.gz...\n",
      "Extracting S0182.tar.gz...\n",
      "Extracting S0421.tar.gz...\n",
      "Extracting S0059.tar.gz...\n",
      "Extracting S0022.tar.gz...\n",
      "Extracting S0748.tar.gz...\n",
      "Extracting S0423.tar.gz...\n",
      "Extracting S0217.tar.gz...\n",
      "Extracting S0032.tar.gz...\n",
      "Extracting S0768.tar.gz...\n",
      "Extracting S0128.tar.gz...\n",
      "Extracting S0715.tar.gz...\n",
      "Extracting S0214.tar.gz...\n",
      "Extracting S0731.tar.gz...\n",
      "\n",
      "Deleted /kaggle/working/data_aishell/data_aishell/wav to save space.\n"
     ]
    }
   ],
   "source": [
    "# Extract each selected user and delete the tar.gz after extraction\n",
    "for file in selected_tar_files:\n",
    "    tar_path = os.path.join(base_path, file)\n",
    "    speaker_id = file.replace(\".tar.gz\", \"\")\n",
    "    speaker_extract_path = os.path.join(extracted_path, speaker_id)\n",
    "    print(f\"Extracting {file}...\")\n",
    "    try:\n",
    "        with tarfile.open(tar_path, \"r:gz\") as tar:\n",
    "            tar.extractall(path=speaker_extract_path)\n",
    "        os.remove(tar_path)  # Delete tar.gz after extraction\n",
    "    except Exception as e:\n",
    "        print(f\"Error processing {file}: {e}\")\n",
    "\n",
    "# Remove the original base_path directory to save space\n",
    "try:\n",
    "    shutil.rmtree(base_path)\n",
    "    print(f\"\\nDeleted {base_path} to save space.\")\n",
    "except Exception as e:\n",
    "    print(f\"\\nCould not delete {base_path}: {e}\")"
   ]
  },
  {
   "cell_type": "code",
   "execution_count": 70,
   "metadata": {
    "execution": {
     "iopub.execute_input": "2025-07-29T09:04:11.414066Z",
     "iopub.status.busy": "2025-07-29T09:04:11.413784Z",
     "iopub.status.idle": "2025-07-29T09:04:11.420749Z",
     "shell.execute_reply": "2025-07-29T09:04:11.420048Z",
     "shell.execute_reply.started": "2025-07-29T09:04:11.414046Z"
    }
   },
   "outputs": [],
   "source": [
    "def mel_spectrogram(y, sr=16000, n_fft=512, win_length=256, hop_length=128, window='hamming', n_mels=64, fmax=8000):\n",
    "    mel_spect = np.abs(librosa.stft(y, n_fft=n_fft, window=window, win_length=win_length, hop_length=hop_length)) ** 2\n",
    "    mel_spect = librosa.feature.melspectrogram(S=mel_spect, sr=sr, n_mels=n_mels, fmax=fmax)\n",
    "    mel_spect = librosa.power_to_db(mel_spect, ref=np.max)\n",
    "    return mel_spect\n",
    "\n",
    "def frame(x, max_frames, win_size):\n",
    "    win_step = (x.shape[1] - win_size) // (max_frames - 1)\n",
    "    win_step = max(win_step, 1)\n",
    "    frames = np.zeros((max_frames, x.shape[0], win_size)).astype(np.float32)\n",
    "    start = 0\n",
    "    for t in range(max_frames):\n",
    "        frames[t, :, :] = x[:, start:start + win_size].astype(np.float32)\n",
    "        start += win_step\n",
    "    return frames"
   ]
  },
  {
   "cell_type": "code",
   "execution_count": 71,
   "metadata": {
    "execution": {
     "iopub.execute_input": "2025-07-29T09:04:53.780291Z",
     "iopub.status.busy": "2025-07-29T09:04:53.780018Z",
     "iopub.status.idle": "2025-07-29T09:04:53.790099Z",
     "shell.execute_reply": "2025-07-29T09:04:53.789328Z",
     "shell.execute_reply.started": "2025-07-29T09:04:53.780269Z"
    }
   },
   "outputs": [
    {
     "data": {
      "text/plain": [
       "40"
      ]
     },
     "execution_count": 71,
     "metadata": {},
     "output_type": "execute_result"
    }
   ],
   "source": [
    "X_train = []\n",
    "y_train = []\n",
    "base_path = '/kaggle/working/aishell_extracted'\n",
    "all_speakers = os.listdir(base_path)\n",
    "selected_speakers = all_speakers.copy() #random.sample(all_speakers, 30)  # Random 30 speakers\n",
    "len(selected_speakers)"
   ]
  },
  {
   "cell_type": "code",
   "execution_count": null,
   "metadata": {},
   "outputs": [],
   "source": []
  },
  {
   "cell_type": "code",
   "execution_count": 72,
   "metadata": {
    "execution": {
     "iopub.execute_input": "2025-07-29T09:05:40.734466Z",
     "iopub.status.busy": "2025-07-29T09:05:40.734192Z",
     "iopub.status.idle": "2025-07-29T09:07:03.177011Z",
     "shell.execute_reply": "2025-07-29T09:07:03.176420Z",
     "shell.execute_reply.started": "2025-07-29T09:05:40.734447Z"
    }
   },
   "outputs": [
    {
     "name": "stderr",
     "output_type": "stream",
     "text": [
      "100%|██████████| 40/40 [01:22<00:00,  2.06s/it]\n"
     ]
    }
   ],
   "source": [
    "for speaker in tqdm(selected_speakers):\n",
    "    speaker_dir = os.path.join(base_path, speaker)\n",
    "\n",
    "    # Recursively find all .wav files\n",
    "    wav_files = []\n",
    "    for root, _, files in os.walk(speaker_dir):\n",
    "        for f in files:\n",
    "            if f.endswith(\".wav\"):\n",
    "                wav_files.append(os.path.join(root, f))\n",
    "    for wav_path in wav_files:\n",
    "        try:\n",
    "            y, sr = librosa.load(wav_path, sr=16000)\n",
    "            vad = librosa.effects.split(y, top_db=30)\n",
    "            start = vad[0][0]\n",
    "            end = vad[-1][1]\n",
    "            y = y[start:end]\n",
    "\n",
    "            if len(y) > 16000:\n",
    "                if len(y) > 65536:\n",
    "                    y = y[:65536]\n",
    "                spec = mel_spectrogram(y)  # Your custom function\n",
    "                X_train.append(frame(spec, 8, 64))  # Your framing function\n",
    "                y_train.append(speaker)\n",
    "        except Exception as e:\n",
    "            print(f\"Error processing {wav_path}: {e}\")"
   ]
  },
  {
   "cell_type": "code",
   "execution_count": 73,
   "metadata": {
    "execution": {
     "iopub.execute_input": "2025-07-29T09:07:15.391106Z",
     "iopub.status.busy": "2025-07-29T09:07:15.390830Z",
     "iopub.status.idle": "2025-07-29T09:07:15.397662Z",
     "shell.execute_reply": "2025-07-29T09:07:15.397066Z",
     "shell.execute_reply.started": "2025-07-29T09:07:15.391086Z"
    }
   },
   "outputs": [
    {
     "name": "stdout",
     "output_type": "stream",
     "text": [
      "Number of audio files imported: 14097\n"
     ]
    }
   ],
   "source": [
    "labels = np.asarray(y_train).ravel()\n",
    "print(\"Number of audio files imported: {}\".format(labels.shape[0]))"
   ]
  },
  {
   "cell_type": "code",
   "execution_count": 74,
   "metadata": {
    "execution": {
     "iopub.execute_input": "2025-07-29T09:07:21.022496Z",
     "iopub.status.busy": "2025-07-29T09:07:21.022252Z",
     "iopub.status.idle": "2025-07-29T09:07:21.410653Z",
     "shell.execute_reply": "2025-07-29T09:07:21.410008Z",
     "shell.execute_reply.started": "2025-07-29T09:07:21.022480Z"
    }
   },
   "outputs": [
    {
     "data": {
      "image/png": "[encoded data removed]",
      "text/plain": [
       "<Figure size 1200x500 with 1 Axes>"
      ]
     },
     "metadata": {},
     "output_type": "display_data"
    }
   ],
   "source": [
    "from collections import Counter\n",
    "# Count how many samples per speaker\n",
    "speaker_counts = Counter(labels)\n",
    "# Convert to sorted list for plotting\n",
    "speakers, counts = zip(*sorted(speaker_counts.items(), key=lambda x: x[0]))\n",
    "# Plot\n",
    "plt.figure(figsize=(12, 5))\n",
    "sns.barplot(x=list(speakers), y=list(counts), palette=\"viridis\")\n",
    "\n",
    "plt.xticks(rotation=90)\n",
    "plt.xlabel(\"Speaker ID\")\n",
    "plt.ylabel(\"Number of Samples\")\n",
    "plt.title(\"Number of Samples per Speaker (Selected 50 Speakers)\")\n",
    "plt.tight_layout()\n",
    "plt.show()"
   ]
  },
  {
   "cell_type": "code",
   "execution_count": 75,
   "metadata": {
    "execution": {
     "iopub.execute_input": "2025-07-29T09:07:27.916525Z",
     "iopub.status.busy": "2025-07-29T09:07:27.915790Z",
     "iopub.status.idle": "2025-07-29T09:07:28.481162Z",
     "shell.execute_reply": "2025-07-29T09:07:28.480537Z",
     "shell.execute_reply.started": "2025-07-29T09:07:27.916472Z"
    }
   },
   "outputs": [],
   "source": [
    "from sklearn.model_selection import StratifiedKFold\n",
    "from collections import defaultdict\n",
    "from sklearn.preprocessing import Normalizer , scale, LabelEncoder, StandardScaler\n",
    "\n",
    "# === Encode labels\n",
    "label_encoder = LabelEncoder()\n",
    "y_encoded = label_encoder.fit_transform(labels)\n",
    "X = np.array(X_train)\n",
    "y = np.array(y_encoded)\n",
    "# === Expand dims for CNN if needed: (samples, time, freq) -> (samples, time, freq, 1)\n",
    "X = X[..., np.newaxis]\n",
    "# === Cross-validation setup\n",
    "skf = StratifiedKFold(n_splits=5, shuffle=True, random_state=42)"
   ]
  },
  {
   "cell_type": "code",
   "execution_count": 76,
   "metadata": {
    "execution": {
     "iopub.execute_input": "2025-07-29T09:07:48.746205Z",
     "iopub.status.busy": "2025-07-29T09:07:48.745942Z",
     "iopub.status.idle": "2025-07-29T09:07:48.756057Z",
     "shell.execute_reply": "2025-07-29T09:07:48.755438Z",
     "shell.execute_reply.started": "2025-07-29T09:07:48.746187Z"
    }
   },
   "outputs": [],
   "source": [
    "from sklearn.model_selection import StratifiedKFold\n",
    "import pickle\n",
    "\n",
    "skf = StratifiedKFold(n_splits=5, shuffle=True, random_state=42)\n",
    "folds = list(skf.split(X, y))\n",
    "\n",
    "# Save folds to disk\n",
    "with open(\"/kaggle/working/aishell_folds.pkl\", \"wb\") as f:\n",
    "    pickle.dump(folds, f)"
   ]
  },
  {
   "cell_type": "code",
   "execution_count": null,
   "metadata": {},
   "outputs": [],
   "source": [
    "with open(\"/kaggle/input/vctk_ind/fold_indices.pkl\", \"rb\") as f:\n",
    "    folds = pickle.load(f)\n",
    "\n",
    "# Use same splits\n",
    "for fold_idx, (train_idx, val_idx) in enumerate(folds):\n",
    "    X_train, X_val = X[train_idx], X[val_idx]\n",
    "    y_train, y_val = y[train_idx], y[val_idx]"
   ]
  },
  {
   "cell_type": "code",
   "execution_count": 77,
   "metadata": {
    "execution": {
     "iopub.execute_input": "2025-07-29T09:07:52.906549Z",
     "iopub.status.busy": "2025-07-29T09:07:52.906242Z",
     "iopub.status.idle": "2025-07-29T09:07:52.938484Z",
     "shell.execute_reply": "2025-07-29T09:07:52.937890Z",
     "shell.execute_reply.started": "2025-07-29T09:07:52.906493Z"
    }
   },
   "outputs": [
    {
     "name": "stdout",
     "output_type": "stream",
     "text": [
      "Fold 1 class distribution:\n",
      "  Class S0019 (0): 72 samples\n",
      "  Class S0020 (1): 71 samples\n",
      "  Class S0022 (2): 69 samples\n",
      "  Class S0029 (3): 70 samples\n",
      "  Class S0032 (4): 67 samples\n",
      "  Class S0044 (5): 68 samples\n",
      "  Class S0046 (6): 65 samples\n",
      "  Class S0059 (7): 71 samples\n",
      "  Class S0067 (8): 72 samples\n",
      "  Class S0069 (9): 73 samples\n",
      "  Class S0095 (10): 71 samples\n",
      "  Class S0106 (11): 67 samples\n",
      "  Class S0111 (12): 72 samples\n",
      "  Class S0112 (13): 73 samples\n",
      "  Class S0128 (14): 71 samples\n",
      "  Class S0130 (15): 73 samples\n",
      "  Class S0133 (16): 73 samples\n",
      "  Class S0154 (17): 70 samples\n",
      "  Class S0161 (18): 69 samples\n",
      "  Class S0163 (19): 70 samples\n",
      "  Class S0165 (20): 73 samples\n",
      "  Class S0167 (21): 63 samples\n",
      "  Class S0170 (22): 70 samples\n",
      "  Class S0172 (23): 71 samples\n",
      "  Class S0182 (24): 71 samples\n",
      "  Class S0208 (25): 73 samples\n",
      "  Class S0214 (26): 72 samples\n",
      "  Class S0217 (27): 69 samples\n",
      "  Class S0242 (28): 65 samples\n",
      "  Class S0342 (29): 71 samples\n",
      "  Class S0421 (30): 73 samples\n",
      "  Class S0423 (31): 71 samples\n",
      "  Class S0661 (32): 72 samples\n",
      "  Class S0715 (33): 72 samples\n",
      "  Class S0731 (34): 71 samples\n",
      "  Class S0735 (35): 70 samples\n",
      "  Class S0748 (36): 68 samples\n",
      "  Class S0754 (37): 73 samples\n",
      "  Class S0768 (38): 73 samples\n",
      "  Class S0916 (39): 72 samples\n",
      "----------------------------------------\n",
      "Fold 2 class distribution:\n",
      "  Class S0019 (0): 72 samples\n",
      "  Class S0020 (1): 71 samples\n",
      "  Class S0022 (2): 70 samples\n",
      "  Class S0029 (3): 70 samples\n",
      "  Class S0032 (4): 67 samples\n",
      "  Class S0044 (5): 68 samples\n",
      "  Class S0046 (6): 65 samples\n",
      "  Class S0059 (7): 70 samples\n",
      "  Class S0067 (8): 72 samples\n",
      "  Class S0069 (9): 73 samples\n",
      "  Class S0095 (10): 71 samples\n",
      "  Class S0106 (11): 67 samples\n",
      "  Class S0111 (12): 72 samples\n",
      "  Class S0112 (13): 73 samples\n",
      "  Class S0128 (14): 71 samples\n",
      "  Class S0130 (15): 73 samples\n",
      "  Class S0133 (16): 74 samples\n",
      "  Class S0154 (17): 70 samples\n",
      "  Class S0161 (18): 69 samples\n",
      "  Class S0163 (19): 70 samples\n",
      "  Class S0165 (20): 73 samples\n",
      "  Class S0167 (21): 62 samples\n",
      "  Class S0170 (22): 70 samples\n",
      "  Class S0172 (23): 71 samples\n",
      "  Class S0182 (24): 70 samples\n",
      "  Class S0208 (25): 73 samples\n",
      "  Class S0214 (26): 72 samples\n",
      "  Class S0217 (27): 69 samples\n",
      "  Class S0242 (28): 65 samples\n",
      "  Class S0342 (29): 71 samples\n",
      "  Class S0421 (30): 73 samples\n",
      "  Class S0423 (31): 71 samples\n",
      "  Class S0661 (32): 72 samples\n",
      "  Class S0715 (33): 73 samples\n",
      "  Class S0731 (34): 71 samples\n",
      "  Class S0735 (35): 70 samples\n",
      "  Class S0748 (36): 68 samples\n",
      "  Class S0754 (37): 73 samples\n",
      "  Class S0768 (38): 73 samples\n",
      "  Class S0916 (39): 72 samples\n",
      "----------------------------------------\n",
      "Fold 3 class distribution:\n",
      "  Class S0019 (0): 73 samples\n",
      "  Class S0020 (1): 70 samples\n",
      "  Class S0022 (2): 70 samples\n",
      "  Class S0029 (3): 70 samples\n",
      "  Class S0032 (4): 67 samples\n",
      "  Class S0044 (5): 67 samples\n",
      "  Class S0046 (6): 65 samples\n",
      "  Class S0059 (7): 70 samples\n",
      "  Class S0067 (8): 72 samples\n",
      "  Class S0069 (9): 73 samples\n",
      "  Class S0095 (10): 71 samples\n",
      "  Class S0106 (11): 67 samples\n",
      "  Class S0111 (12): 72 samples\n",
      "  Class S0112 (13): 73 samples\n",
      "  Class S0128 (14): 70 samples\n",
      "  Class S0130 (15): 72 samples\n",
      "  Class S0133 (16): 74 samples\n",
      "  Class S0154 (17): 70 samples\n",
      "  Class S0161 (18): 69 samples\n",
      "  Class S0163 (19): 70 samples\n",
      "  Class S0165 (20): 72 samples\n",
      "  Class S0167 (21): 62 samples\n",
      "  Class S0170 (22): 70 samples\n",
      "  Class S0172 (23): 71 samples\n",
      "  Class S0182 (24): 70 samples\n",
      "  Class S0208 (25): 73 samples\n",
      "  Class S0214 (26): 72 samples\n",
      "  Class S0217 (27): 69 samples\n",
      "  Class S0242 (28): 65 samples\n",
      "  Class S0342 (29): 72 samples\n",
      "  Class S0421 (30): 73 samples\n",
      "  Class S0423 (31): 71 samples\n",
      "  Class S0661 (32): 72 samples\n",
      "  Class S0715 (33): 73 samples\n",
      "  Class S0731 (34): 71 samples\n",
      "  Class S0735 (35): 70 samples\n",
      "  Class S0748 (36): 68 samples\n",
      "  Class S0754 (37): 73 samples\n",
      "  Class S0768 (38): 74 samples\n",
      "  Class S0916 (39): 73 samples\n",
      "----------------------------------------\n",
      "Fold 4 class distribution:\n",
      "  Class S0019 (0): 73 samples\n",
      "  Class S0020 (1): 70 samples\n",
      "  Class S0022 (2): 70 samples\n",
      "  Class S0029 (3): 70 samples\n",
      "  Class S0032 (4): 67 samples\n",
      "  Class S0044 (5): 68 samples\n",
      "  Class S0046 (6): 65 samples\n",
      "  Class S0059 (7): 71 samples\n",
      "  Class S0067 (8): 72 samples\n",
      "  Class S0069 (9): 74 samples\n",
      "  Class S0095 (10): 70 samples\n",
      "  Class S0106 (11): 67 samples\n",
      "  Class S0111 (12): 72 samples\n",
      "  Class S0112 (13): 73 samples\n",
      "  Class S0128 (14): 70 samples\n",
      "  Class S0130 (15): 73 samples\n",
      "  Class S0133 (16): 73 samples\n",
      "  Class S0154 (17): 70 samples\n",
      "  Class S0161 (18): 69 samples\n",
      "  Class S0163 (19): 71 samples\n",
      "  Class S0165 (20): 73 samples\n",
      "  Class S0167 (21): 63 samples\n",
      "  Class S0170 (22): 71 samples\n",
      "  Class S0172 (23): 72 samples\n",
      "  Class S0182 (24): 70 samples\n",
      "  Class S0208 (25): 72 samples\n",
      "  Class S0214 (26): 71 samples\n",
      "  Class S0217 (27): 69 samples\n",
      "  Class S0242 (28): 65 samples\n",
      "  Class S0342 (29): 71 samples\n",
      "  Class S0421 (30): 73 samples\n",
      "  Class S0423 (31): 70 samples\n",
      "  Class S0661 (32): 71 samples\n",
      "  Class S0715 (33): 72 samples\n",
      "  Class S0731 (34): 71 samples\n",
      "  Class S0735 (35): 71 samples\n",
      "  Class S0748 (36): 67 samples\n",
      "  Class S0754 (37): 73 samples\n",
      "  Class S0768 (38): 74 samples\n",
      "  Class S0916 (39): 72 samples\n",
      "----------------------------------------\n",
      "Fold 5 class distribution:\n",
      "  Class S0019 (0): 72 samples\n",
      "  Class S0020 (1): 71 samples\n",
      "  Class S0022 (2): 69 samples\n",
      "  Class S0029 (3): 70 samples\n",
      "  Class S0032 (4): 68 samples\n",
      "  Class S0044 (5): 68 samples\n",
      "  Class S0046 (6): 65 samples\n",
      "  Class S0059 (7): 71 samples\n",
      "  Class S0067 (8): 72 samples\n",
      "  Class S0069 (9): 74 samples\n",
      "  Class S0095 (10): 70 samples\n",
      "  Class S0106 (11): 67 samples\n",
      "  Class S0111 (12): 73 samples\n",
      "  Class S0112 (13): 73 samples\n",
      "  Class S0128 (14): 70 samples\n",
      "  Class S0130 (15): 73 samples\n",
      "  Class S0133 (16): 73 samples\n",
      "  Class S0154 (17): 69 samples\n",
      "  Class S0161 (18): 69 samples\n",
      "  Class S0163 (19): 71 samples\n",
      "  Class S0165 (20): 73 samples\n",
      "  Class S0167 (21): 63 samples\n",
      "  Class S0170 (22): 70 samples\n",
      "  Class S0172 (23): 71 samples\n",
      "  Class S0182 (24): 71 samples\n",
      "  Class S0208 (25): 73 samples\n",
      "  Class S0214 (26): 71 samples\n",
      "  Class S0217 (27): 69 samples\n",
      "  Class S0242 (28): 65 samples\n",
      "  Class S0342 (29): 71 samples\n",
      "  Class S0421 (30): 73 samples\n",
      "  Class S0423 (31): 71 samples\n",
      "  Class S0661 (32): 72 samples\n",
      "  Class S0715 (33): 72 samples\n",
      "  Class S0731 (34): 71 samples\n",
      "  Class S0735 (35): 70 samples\n",
      "  Class S0748 (36): 67 samples\n",
      "  Class S0754 (37): 73 samples\n",
      "  Class S0768 (38): 73 samples\n",
      "  Class S0916 (39): 72 samples\n",
      "----------------------------------------\n"
     ]
    }
   ],
   "source": [
    "# Check class distribution in each fold\n",
    "for fold_idx, (train_idx, val_idx) in enumerate(skf.split(X, y)):\n",
    "    y_val = y[val_idx]\n",
    "    class_counts = Counter(y_val)\n",
    "    print(f\"Fold {fold_idx + 1} class distribution:\")\n",
    "    for class_id, count in sorted(class_counts.items()):\n",
    "        label = label_encoder.inverse_transform([class_id])[0]\n",
    "        print(f\"  Class {label} ({class_id}): {count} samples\")\n",
    "    print(\"-\" * 40)"
   ]
  },
  {
   "cell_type": "code",
   "execution_count": 78,
   "metadata": {
    "execution": {
     "iopub.execute_input": "2025-07-29T09:08:04.848908Z",
     "iopub.status.busy": "2025-07-29T09:08:04.848663Z",
     "iopub.status.idle": "2025-07-29T09:08:05.487909Z",
     "shell.execute_reply": "2025-07-29T09:08:05.487208Z",
     "shell.execute_reply.started": "2025-07-29T09:08:04.848893Z"
    }
   },
   "outputs": [
    {
     "data": {
      "image/png": "[encoded data removed]",
      "text/plain": [
       "<Figure size 1500x600 with 1 Axes>"
      ]
     },
     "metadata": {},
     "output_type": "display_data"
    }
   ],
   "source": [
    "# === Setup for plotting\n",
    "num_folds = 5\n",
    "fold_distributions = []\n",
    "class_labels = label_encoder.classes_\n",
    "\n",
    "for fold_idx, (train_idx, val_idx) in enumerate(skf.split(X, y)):\n",
    "    y_val = y[val_idx]\n",
    "    class_counts = Counter(y_val)\n",
    "    counts = [class_counts.get(cls_id, 0) for cls_id in range(len(class_labels))]\n",
    "    fold_distributions.append(counts)\n",
    "\n",
    "# === Convert to NumPy array for easy plotting\n",
    "fold_distributions = np.array(fold_distributions)  # shape: (num_folds, num_classes)\n",
    "x = np.arange(len(class_labels))  # Class indices\n",
    "\n",
    "# === Plotting\n",
    "plt.figure(figsize=(15, 6))\n",
    "bar_width = 0.15\n",
    "\n",
    "for i in range(num_folds):\n",
    "    plt.bar(x + i * bar_width, fold_distributions[i], width=bar_width, label=f'Fold {i+1}')\n",
    "\n",
    "plt.xticks(x + bar_width * (num_folds - 1) / 2, class_labels, rotation=45)\n",
    "plt.xlabel(\"Class\")\n",
    "plt.ylabel(\"Number of Samples\")\n",
    "plt.title(\"Class Distribution Across Folds\")\n",
    "plt.legend()\n",
    "plt.tight_layout()\n",
    "plt.grid(axis='y', linestyle='--', alpha=0.6)\n",
    "plt.show()"
   ]
  },
  {
   "cell_type": "markdown",
   "metadata": {},
   "source": [
    "# TRAINING"
   ]
  },
  {
   "cell_type": "code",
   "execution_count": 79,
   "metadata": {
    "execution": {
     "iopub.execute_input": "2025-07-29T09:08:12.084209Z",
     "iopub.status.busy": "2025-07-29T09:08:12.083635Z",
     "iopub.status.idle": "2025-07-29T09:08:12.090868Z",
     "shell.execute_reply": "2025-07-29T09:08:12.090143Z",
     "shell.execute_reply.started": "2025-07-29T09:08:12.084188Z"
    }
   },
   "outputs": [
    {
     "name": "stdout",
     "output_type": "stream",
     "text": [
      "2.18.0\n"
     ]
    }
   ],
   "source": [
    "import tensorflow as tf\n",
    "print(tf.__version__)\n",
    "from tensorflow.keras.models import Sequential\n",
    "from tensorflow.keras.layers import (Conv3D, MaxPooling3D, TimeDistributed, Conv2D,\n",
    "                                     Activation, MaxPooling2D, Flatten, LSTM, Dense,\n",
    "                                     Dropout, BatchNormalization)\n",
    "from tensorflow.keras.regularizers import l2\n",
    "from tensorflow.keras.optimizers import SGD\n",
    "\n",
    "### Time Distributed ConvNet imports ###\n",
    "import tensorflow as tf\n",
    "import keras\n",
    "from tensorflow.keras import backend as K\n",
    "from keras.regularizers import L2\n",
    "from keras.losses import categorical_crossentropy\n",
    "from tensorflow.keras.utils import to_categorical, plot_model\n",
    "from tensorflow.keras.layers import Input, Dense, Dropout, Activation, TimeDistributed, concatenate, LSTM, Flatten, BatchNormalization, LeakyReLU, Reshape\n",
    "from tensorflow.keras.layers import Conv3D, MaxPool3D, ConvLSTM3D, MaxPooling3D, AveragePooling3D, ZeroPadding3D, Convolution3D\n",
    "from tensorflow.keras.layers import Conv2D, MaxPool2D, ConvLSTM2D, MaxPooling2D, AveragePooling2D, ZeroPadding2D, Convolution2D\n",
    "from tensorflow.keras.optimizers import SGD, Adam, RMSprop, Adagrad, Adadelta, Adamax, Nadam\n",
    "from tensorflow.keras.models import Sequential, Model, load_model,  model_from_json\n",
    "from tensorflow.keras.callbacks import EarlyStopping, ModelCheckpoint, ReduceLROnPlateau\n",
    "from sklearn.preprocessing import LabelEncoder\n",
    "### Warning ###\n",
    "import warnings\n",
    "warnings.filterwarnings('ignore')"
   ]
  },
  {
   "cell_type": "code",
   "execution_count": 80,
   "metadata": {
    "execution": {
     "iopub.execute_input": "2025-07-29T09:08:14.660617Z",
     "iopub.status.busy": "2025-07-29T09:08:14.660053Z",
     "iopub.status.idle": "2025-07-29T09:08:14.670186Z",
     "shell.execute_reply": "2025-07-29T09:08:14.669480Z",
     "shell.execute_reply.started": "2025-07-29T09:08:14.660592Z"
    }
   },
   "outputs": [],
   "source": [
    "def create_cnn_model(input_shape, num_classes):\n",
    "    weight_decay = 1e-4\n",
    "    model = Sequential()\n",
    "    # Conv3D Block 1\n",
    "    model.add(Conv3D(16, kernel_size=(3, 3, 3), activation='relu', padding='same',kernel_regularizer=l2(weight_decay), input_shape=input_shape))\n",
    "    model.add(BatchNormalization())\n",
    "    model.add(Conv3D(16, kernel_size=(3, 3, 3), activation='relu', padding='same',kernel_regularizer=l2(weight_decay)))\n",
    "    model.add(BatchNormalization())\n",
    "    model.add(MaxPooling3D(pool_size=(2, 2, 2), padding='same'))\n",
    "    model.add(Dropout(0.2))\n",
    "    # TimeDistributed Conv2D Block 1\n",
    "    model.add(TimeDistributed(Conv2D(32, kernel_size=(3, 3), strides=(1, 1), padding='same',kernel_regularizer=l2(weight_decay))))\n",
    "    model.add(TimeDistributed(BatchNormalization()))\n",
    "    model.add(TimeDistributed(Activation('elu')))\n",
    "    model.add(TimeDistributed(MaxPooling2D(pool_size=(2, 2), strides=(3, 3), padding='same')))\n",
    "    model.add(Dropout(0.2))\n",
    "    # Conv3D Block 2\n",
    "    model.add(Conv3D(64, kernel_size=(3, 3, 3), activation='relu', padding='same',kernel_regularizer=l2(weight_decay)))\n",
    "    model.add(BatchNormalization())\n",
    "    model.add(Conv3D(64, kernel_size=(3, 3, 3), activation='relu', padding='same',kernel_regularizer=l2(weight_decay)))\n",
    "    model.add(BatchNormalization())\n",
    "    model.add(MaxPooling3D(pool_size=(2, 2, 2), padding='same'))\n",
    "    model.add(Dropout(0.2))\n",
    "    # TimeDistributed Conv2D Block 2\n",
    "    model.add(TimeDistributed(Conv2D(128, kernel_size=(3, 3), strides=(1, 1), padding='same',kernel_regularizer=l2(weight_decay))))\n",
    "    model.add(TimeDistributed(BatchNormalization()))\n",
    "    model.add(TimeDistributed(Activation('elu')))\n",
    "    model.add(TimeDistributed(MaxPooling2D(pool_size=(2, 2), strides=(3, 3), padding='same')))\n",
    "    model.add(Dropout(0.2))\n",
    "    # LSTM + Output\n",
    "    model.add(TimeDistributed(Flatten()))\n",
    "    model.add(LSTM(256, return_sequences=False, dropout=0.2, recurrent_dropout=0.2))\n",
    "    model.add(Dense(num_classes, activation='softmax',kernel_regularizer=l2(weight_decay)))\n",
    "    model.compile(loss='sparse_categorical_crossentropy',optimizer=SGD(learning_rate=0.01, momentum=0.9),metrics=['accuracy'])\n",
    "    return model"
   ]
  },
  {
   "cell_type": "code",
   "execution_count": 81,
   "metadata": {
    "execution": {
     "iopub.execute_input": "2025-07-29T09:08:18.307175Z",
     "iopub.status.busy": "2025-07-29T09:08:18.306894Z",
     "iopub.status.idle": "2025-07-29T09:08:18.312593Z",
     "shell.execute_reply": "2025-07-29T09:08:18.311957Z",
     "shell.execute_reply.started": "2025-07-29T09:08:18.307147Z"
    }
   },
   "outputs": [
    {
     "name": "stdout",
     "output_type": "stream",
     "text": [
      "X_val: 294.13 MB\n",
      "feat_train: 4.60 MB\n",
      "feat_val: 1.15 MB\n",
      "y_pred_probs: 0.13 MB\n",
      "X_train: 0.12 MB\n",
      "y_train: 0.12 MB\n",
      "y: 0.11 MB\n",
      "y_encoded: 0.11 MB\n",
      "train_idx: 0.09 MB\n",
      "spec: 0.07 MB\n"
     ]
    }
   ],
   "source": [
    "from tensorflow.keras import mixed_precision\n",
    "import sys\n",
    "\n",
    "mixed_precision.set_global_policy('mixed_float16')\n",
    "\n",
    "for name, size in sorted(((name, sys.getsizeof(val)) for name, val in globals().items()), \n",
    "                         key=lambda x: -x[1])[:10]:  # top 10\n",
    "    print(f\"{name}: {size / (1024 ** 2):.2f} MB\")"
   ]
  },
  {
   "cell_type": "code",
   "execution_count": null,
   "metadata": {},
   "outputs": [],
   "source": [
    "# Delete large variables\n",
    "del model, history, results, feat_train, feat_val\n",
    "\n",
    "# Clear cache\n",
    "import gc\n",
    "gc.collect()"
   ]
  },
  {
   "cell_type": "code",
   "execution_count": 82,
   "metadata": {
    "execution": {
     "iopub.execute_input": "2025-07-29T09:09:04.226912Z",
     "iopub.status.busy": "2025-07-29T09:09:04.226092Z",
     "iopub.status.idle": "2025-07-29T13:02:10.052963Z",
     "shell.execute_reply": "2025-07-29T13:02:10.052267Z",
     "shell.execute_reply.started": "2025-07-29T09:09:04.226885Z"
    }
   },
   "outputs": [
    {
     "name": "stdout",
     "output_type": "stream",
     "text": [
      "\n",
      "=== Fold 1 ===\n",
      "Best Model Validation Accuracy: 0.9993\n",
      "\n",
      "=== Fold 2 ===\n",
      "Best Model Validation Accuracy: 0.9993\n",
      "\n",
      "=== Fold 3 ===\n",
      "Best Model Validation Accuracy: 1.0000\n",
      "\n",
      "=== Fold 4 ===\n",
      "Best Model Validation Accuracy: 0.9982\n",
      "\n",
      "=== Fold 5 ===\n",
      "Best Model Validation Accuracy: 0.9993\n"
     ]
    }
   ],
   "source": [
    "fold_accuracies = []\n",
    "# === Loop through folds\n",
    "for fold_idx, (train_idx, val_idx) in enumerate(skf.split(X, y)):\n",
    "    print(f\"\\n=== Fold {fold_idx+1} ===\")\n",
    "    X_train, X_val = X[train_idx], X[val_idx]\n",
    "    y_train, y_val = y[train_idx], y[val_idx]\n",
    "    # Create a new model\n",
    "    model = create_cnn_model(input_shape=X.shape[1:], num_classes=len(label_encoder.classes_))\n",
    "    # Define checkpoint path\n",
    "    checkpoint_path = f'/kaggle/working/aishell_models/model_fold_{fold_idx+1}.keras'\n",
    "    # Setup model checkpoint\n",
    "    model_check = tf.keras.callbacks.ModelCheckpoint(filepath=checkpoint_path,monitor='val_accuracy',\n",
    "                                                     mode='max',save_best_only=True,verbose=0)\n",
    "    # Train model\n",
    "    history = model.fit(X_train, y_train,validation_data=(X_val, y_val),epochs=100,batch_size=32,callbacks=[model_check],verbose=0)\n",
    "    time.sleep(2)\n",
    "    # Load the best saved model\n",
    "    best_model = tf.keras.models.load_model(checkpoint_path)\n",
    "    # Evaluate the best model\n",
    "    val_acc = best_model.evaluate(X_val, y_val, verbose=0)[1]\n",
    "    fold_accuracies.append(val_acc)\n",
    "    print(f\"Best Model Validation Accuracy: {val_acc:.4f}\")"
   ]
  },
  {
   "cell_type": "code",
   "execution_count": 84,
   "metadata": {
    "execution": {
     "iopub.execute_input": "2025-07-29T13:02:55.919672Z",
     "iopub.status.busy": "2025-07-29T13:02:55.918879Z",
     "iopub.status.idle": "2025-07-29T13:02:55.925027Z",
     "shell.execute_reply": "2025-07-29T13:02:55.924014Z",
     "shell.execute_reply.started": "2025-07-29T13:02:55.919645Z"
    }
   },
   "outputs": [
    {
     "name": "stdout",
     "output_type": "stream",
     "text": [
      "\n",
      "✅ 5-Fold Results: Accuracies = [0.9992907643318176, 0.9992907643318176, 1.0, 0.9982263445854187, 0.9992905259132385]\n",
      "Mean Accuracy = 0.99922, Std = 0.00057\n"
     ]
    }
   ],
   "source": [
    "# === Summary\n",
    "mean_acc = np.mean(fold_accuracies)\n",
    "std_acc = np.std(fold_accuracies)\n",
    "print(f\"\\n✅ 5-Fold Results: Accuracies = {fold_accuracies}\")\n",
    "print(f\"Mean Accuracy = {mean_acc:.5f}, Std = {std_acc:.5f}\")"
   ]
  },
  {
   "cell_type": "code",
   "execution_count": 106,
   "metadata": {
    "execution": {
     "iopub.execute_input": "2025-07-29T13:36:23.005235Z",
     "iopub.status.busy": "2025-07-29T13:36:23.004969Z",
     "iopub.status.idle": "2025-07-29T13:36:23.010196Z",
     "shell.execute_reply": "2025-07-29T13:36:23.009668Z",
     "shell.execute_reply.started": "2025-07-29T13:36:23.005215Z"
    }
   },
   "outputs": [
    {
     "data": {
      "text/plain": [
       "0.0006345745929644084"
      ]
     },
     "execution_count": 106,
     "metadata": {},
     "output_type": "execute_result"
    }
   ],
   "source": [
    "std = np.std([0.9992907643318176, 0.9992907643318176, 1.0, 0.9982263445854187, 0.9992905259132385], ddof=1)\n",
    "std"
   ]
  },
  {
   "cell_type": "code",
   "execution_count": 85,
   "metadata": {
    "execution": {
     "iopub.execute_input": "2025-07-29T13:03:00.348290Z",
     "iopub.status.busy": "2025-07-29T13:03:00.348035Z",
     "iopub.status.idle": "2025-07-29T13:03:00.358277Z",
     "shell.execute_reply": "2025-07-29T13:03:00.357599Z",
     "shell.execute_reply.started": "2025-07-29T13:03:00.348272Z"
    }
   },
   "outputs": [
    {
     "name": "stdout",
     "output_type": "stream",
     "text": [
      "Mean Accuracy: 0.99922\n",
      "Standard Deviation: 0.00063\n",
      "95% Confidence Interval: [0.99843, 1.00001]\n",
      "p-value: 0.0000\n",
      "t-statistic vs baseline 0.95: 173.437\n",
      "One-sided p-value: 0.0000000033\n",
      "Result: Statistically significant improvement over baseline (p < 0.05).\n"
     ]
    }
   ],
   "source": [
    "import scipy.stats as stats\n",
    "# Basic statistics\n",
    "mean_acc = np.mean(fold_accuracies)\n",
    "std_dev = np.std(fold_accuracies, ddof=1)  # ddof=1 for sample standard deviation\n",
    "n = len(fold_accuracies)\n",
    "\n",
    "# 95% confidence interval using t-distribution\n",
    "confidence = 0.95\n",
    "alpha = 1 - confidence\n",
    "t_crit = stats.t.ppf(1 - alpha/2, df=n-1)\n",
    "margin_error = t_crit * (std_dev / np.sqrt(n))\n",
    "ci_lower = mean_acc - margin_error\n",
    "ci_upper = mean_acc + margin_error\n",
    "\n",
    "# One-sample t-test against baseline (e.g., 0.95)\n",
    "baseline = 0.95\n",
    "t_stat, p_val = stats.ttest_1samp(fold_accuracies, baseline)\n",
    "\n",
    "# One-sided p-value (greater than baseline)\n",
    "p_val_one_sided = p_val / 2 if t_stat > 0 else 1 - p_val / 2\n",
    "\n",
    "# Print results\n",
    "print(f\"Mean Accuracy: {mean_acc:.5f}\")\n",
    "print(f\"Standard Deviation: {std_dev:.5f}\")\n",
    "print(f\"95% Confidence Interval: [{ci_lower:.5f}, {ci_upper:.5f}]\")\n",
    "print(f\"p-value: {p_val:.4f}\")\n",
    "print(f\"t-statistic vs baseline {baseline}: {t_stat:.3f}\")\n",
    "print(f\"One-sided p-value: {p_val_one_sided:.10f}\")\n",
    "\n",
    "# Interpretation\n",
    "if p_val_one_sided < 0.05:\n",
    "    print(\"Result: Statistically significant improvement over baseline (p < 0.05).\")\n",
    "else:\n",
    "    print(\"Result: Not statistically significant at the 0.05 level.\")"
   ]
  },
  {
   "cell_type": "code",
   "execution_count": 88,
   "metadata": {
    "execution": {
     "iopub.execute_input": "2025-07-29T13:05:37.045187Z",
     "iopub.status.busy": "2025-07-29T13:05:37.044522Z",
     "iopub.status.idle": "2025-07-29T13:06:04.943615Z",
     "shell.execute_reply": "2025-07-29T13:06:04.942745Z",
     "shell.execute_reply.started": "2025-07-29T13:05:37.045164Z"
    }
   },
   "outputs": [
    {
     "name": "stdout",
     "output_type": "stream",
     "text": [
      "\n",
      "=== Evaluating Fold 1 ===\n",
      "Accuracy: 0.9993 | Precision: 0.9993 | Recall: 0.9993 | F1: 0.9993\n",
      "\n",
      "=== Evaluating Fold 2 ===\n",
      "Accuracy: 0.9993 | Precision: 0.9993 | Recall: 0.9993 | F1: 0.9993\n",
      "\n",
      "=== Evaluating Fold 3 ===\n",
      "Accuracy: 1.0000 | Precision: 1.0000 | Recall: 1.0000 | F1: 1.0000\n",
      "\n",
      "=== Evaluating Fold 4 ===\n",
      "Accuracy: 0.9982 | Precision: 0.9983 | Recall: 0.9983 | F1: 0.9983\n",
      "\n",
      "=== Evaluating Fold 5 ===\n",
      "Accuracy: 0.9993 | Precision: 0.9993 | Recall: 0.9993 | F1: 0.9993\n",
      "\n",
      "=== Summary of Evaluation Metrics ===\n",
      "Fold 1: Acc=0.9993, Prec=0.9993, Rec=0.9993, F1=0.9993\n",
      "Fold 2: Acc=0.9993, Prec=0.9993, Rec=0.9993, F1=0.9993\n",
      "Fold 3: Acc=1.0000, Prec=1.0000, Rec=1.0000, F1=1.0000\n",
      "Fold 4: Acc=0.9982, Prec=0.9983, Rec=0.9983, F1=0.9983\n",
      "Fold 5: Acc=0.9993, Prec=0.9993, Rec=0.9993, F1=0.9993\n",
      "\n",
      "Mean Accuracy:  0.9992\n",
      "Mean Precision: 0.9992\n",
      "Mean Recall:    0.9992\n",
      "Mean F1 Score:  0.9992\n"
     ]
    }
   ],
   "source": [
    "fold_accuracies = []\n",
    "fold_precisions = []\n",
    "fold_recalls = []\n",
    "fold_f1s = []\n",
    "\n",
    "for fold_idx, (train_idx, val_idx) in enumerate(skf.split(X, y)):\n",
    "    print(f\"\\n=== Evaluating Fold {fold_idx+1} ===\")\n",
    "    X_val = X[val_idx]\n",
    "    y_val = y[val_idx]\n",
    "\n",
    "    # Load the saved model\n",
    "    model = tf.keras.models.load_model(f'/kaggle/working/aishell_models/model_fold_{fold_idx+1}.keras')\n",
    "    \n",
    "    # Predict class probabilities and then convert to class labels\n",
    "    y_pred_probs = model.predict(X_val, verbose=0)\n",
    "    y_pred = y_pred_probs.argmax(axis=1)\n",
    "\n",
    "    # Compute metrics\n",
    "    acc = accuracy_score(y_val, y_pred)\n",
    "    prec = precision_score(y_val, y_pred, average='macro', zero_division=0)\n",
    "    rec = recall_score(y_val, y_pred, average='macro', zero_division=0)\n",
    "    f1 = f1_score(y_val, y_pred, average='macro', zero_division=0)\n",
    "\n",
    "    fold_accuracies.append(acc)\n",
    "    fold_precisions.append(prec)\n",
    "    fold_recalls.append(rec)\n",
    "    fold_f1s.append(f1)\n",
    "    print(f\"Accuracy: {acc:.4f} | Precision: {prec:.4f} | Recall: {rec:.4f} | F1: {f1:.4f}\")\n",
    "\n",
    "# Summary\n",
    "print(\"\\n=== Summary of Evaluation Metrics ===\")\n",
    "for i in range(len(fold_accuracies)):\n",
    "    print(f\"Fold {i+1}: Acc={fold_accuracies[i]:.4f}, Prec={fold_precisions[i]:.4f}, Rec={fold_recalls[i]:.4f}, F1={fold_f1s[i]:.4f}\")\n",
    "print(f\"\\nMean Accuracy:  {np.mean(fold_accuracies):.4f}\")\n",
    "print(f\"Mean Precision: {np.mean(fold_precisions):.4f}\")\n",
    "print(f\"Mean Recall:    {np.mean(fold_recalls):.4f}\")\n",
    "print(f\"Mean F1 Score:  {np.mean(fold_f1s):.4f}\")"
   ]
  },
  {
   "cell_type": "code",
   "execution_count": 89,
   "metadata": {
    "execution": {
     "iopub.execute_input": "2025-07-29T13:06:26.804423Z",
     "iopub.status.busy": "2025-07-29T13:06:26.804152Z",
     "iopub.status.idle": "2025-07-29T13:06:26.813099Z",
     "shell.execute_reply": "2025-07-29T13:06:26.812482Z",
     "shell.execute_reply.started": "2025-07-29T13:06:26.804403Z"
    }
   },
   "outputs": [
    {
     "name": "stdout",
     "output_type": "stream",
     "text": [
      "Mean Accuracy: 0.99922\n",
      "Standard Deviation: 0.00063\n",
      "95% Confidence Interval: [0.99843, 1.00001]\n",
      "p-value: 0.0000\n",
      "t-statistic vs baseline 0.95: 173.434\n",
      "One-sided p-value: 0.0000\n",
      "Result: Statistically significant improvement over baseline (p < 0.05).\n"
     ]
    }
   ],
   "source": [
    "# Basic statistics\n",
    "mean_acc = np.mean(fold_accuracies)\n",
    "std_dev = np.std(fold_accuracies, ddof=1)  # ddof=1 for sample standard deviation\n",
    "n = len(fold_accuracies)\n",
    "\n",
    "# 95% confidence interval using t-distribution\n",
    "confidence = 0.95\n",
    "alpha = 1 - confidence\n",
    "t_crit = stats.t.ppf(1 - alpha/2, df=n-1)\n",
    "margin_error = t_crit * (std_dev / np.sqrt(n))\n",
    "ci_lower = mean_acc - margin_error\n",
    "ci_upper = mean_acc + margin_error\n",
    "\n",
    "# One-sample t-test against baseline (e.g., 0.95)\n",
    "baseline = 0.95\n",
    "t_stat, p_val = stats.ttest_1samp(fold_accuracies, baseline)\n",
    "\n",
    "# One-sided p-value (greater than baseline)\n",
    "p_val_one_sided = p_val / 2 if t_stat > 0 else 1 - p_val / 2\n",
    "\n",
    "# Print results\n",
    "print(f\"Mean Accuracy: {mean_acc:.5f}\")\n",
    "print(f\"Standard Deviation: {std_dev:.5f}\")\n",
    "print(f\"95% Confidence Interval: [{ci_lower:.5f}, {ci_upper:.5f}]\")\n",
    "print(f\"p-value: {p_val:.4f}\")\n",
    "print(f\"t-statistic vs baseline {baseline}: {t_stat:.3f}\")\n",
    "print(f\"One-sided p-value: {p_val_one_sided:.4f}\")\n",
    "\n",
    "# Interpretation\n",
    "if p_val_one_sided < 0.05:\n",
    "    print(\"Result: Statistically significant improvement over baseline (p < 0.05).\")\n",
    "else:\n",
    "    print(\"Result: Not statistically significant at the 0.05 level.\")"
   ]
  },
  {
   "cell_type": "markdown",
   "metadata": {},
   "source": [
    "# CLASSIFIERS"
   ]
  },
  {
   "cell_type": "code",
   "execution_count": 90,
   "metadata": {
    "execution": {
     "iopub.execute_input": "2025-07-29T13:06:28.871146Z",
     "iopub.status.busy": "2025-07-29T13:06:28.870687Z",
     "iopub.status.idle": "2025-07-29T13:06:28.875796Z",
     "shell.execute_reply": "2025-07-29T13:06:28.875030Z",
     "shell.execute_reply.started": "2025-07-29T13:06:28.871121Z"
    }
   },
   "outputs": [],
   "source": [
    "# Machine learning\n",
    "import xgboost as xgb\n",
    "from sklearn import svm\n",
    "from sklearn.svm import SVC, LinearSVC\n",
    "from sklearn.tree import DecisionTreeClassifier\n",
    "from sklearn.neural_network import MLPClassifier\n",
    "from sklearn.linear_model import LogisticRegression\n",
    "from sklearn.neighbors import KNeighborsClassifier\n",
    "from sklearn.naive_bayes import GaussianNB\n",
    "from sklearn.ensemble import RandomForestClassifier , GradientBoostingClassifier\n",
    "from sklearn.model_selection import train_test_split\n",
    "from sklearn.metrics.pairwise import cosine_distances\n",
    "from sklearn.metrics import accuracy_score, precision_score, recall_score, f1_score, confusion_matrix, roc_curve, auc, log_loss, hinge_loss\n",
    "from sklearn.preprocessing import Normalizer , scale, LabelEncoder, StandardScaler"
   ]
  },
  {
   "cell_type": "code",
   "execution_count": 91,
   "metadata": {
    "execution": {
     "iopub.execute_input": "2025-07-29T13:06:30.999775Z",
     "iopub.status.busy": "2025-07-29T13:06:30.999472Z",
     "iopub.status.idle": "2025-07-29T13:06:31.008931Z",
     "shell.execute_reply": "2025-07-29T13:06:31.008258Z",
     "shell.execute_reply.started": "2025-07-29T13:06:30.999755Z"
    }
   },
   "outputs": [],
   "source": [
    "def embeds_model(input_shape):\n",
    "    weight_decay = 1e-4\n",
    "    model = Sequential()\n",
    "    model.add(Conv3D(16, kernel_size=(3, 3, 3), activation='relu', padding='same',kernel_regularizer=l2(weight_decay), input_shape=input_shape))\n",
    "    model.add(BatchNormalization())\n",
    "    model.add(Conv3D(16, kernel_size=(3, 3, 3), activation='relu', padding='same',kernel_regularizer=l2(weight_decay)))\n",
    "    model.add(BatchNormalization())\n",
    "    model.add(MaxPooling3D(pool_size=(2, 2, 2), padding='same'))\n",
    "    model.add(Dropout(0.2))\n",
    "    model.add(TimeDistributed(Conv2D(32, kernel_size=(3, 3), strides=(1, 1), padding='same',kernel_regularizer=l2(weight_decay))))\n",
    "    model.add(TimeDistributed(BatchNormalization()))\n",
    "    model.add(TimeDistributed(Activation('elu')))\n",
    "    model.add(TimeDistributed(MaxPooling2D(pool_size=(2, 2), strides=(3, 3), padding='same')))\n",
    "    model.add(Dropout(0.2))\n",
    "    model.add(Conv3D(64, kernel_size=(3, 3, 3), activation='relu', padding='same',kernel_regularizer=l2(weight_decay)))\n",
    "    model.add(BatchNormalization())\n",
    "    model.add(Conv3D(64, kernel_size=(3, 3, 3), activation='relu', padding='same',kernel_regularizer=l2(weight_decay)))\n",
    "    model.add(BatchNormalization())\n",
    "    model.add(MaxPooling3D(pool_size=(2, 2, 2), padding='same'))\n",
    "    model.add(Dropout(0.2))\n",
    "    model.add(TimeDistributed(Conv2D(128, kernel_size=(3, 3), strides=(1, 1), padding='same',kernel_regularizer=l2(weight_decay))))\n",
    "    model.add(TimeDistributed(BatchNormalization()))\n",
    "    model.add(TimeDistributed(Activation('elu')))\n",
    "    model.add(TimeDistributed(MaxPooling2D(pool_size=(2, 2), strides=(3, 3), padding='same')))\n",
    "    model.add(Dropout(0.2))\n",
    "    model.add(TimeDistributed(Flatten()))\n",
    "    model.add(LSTM(256, return_sequences=False, dropout=0.2, recurrent_dropout=0.2))\n",
    "    return model"
   ]
  },
  {
   "cell_type": "code",
   "execution_count": 92,
   "metadata": {
    "execution": {
     "iopub.execute_input": "2025-07-29T13:06:33.893946Z",
     "iopub.status.busy": "2025-07-29T13:06:33.893676Z",
     "iopub.status.idle": "2025-07-29T13:06:33.899276Z",
     "shell.execute_reply": "2025-07-29T13:06:33.898688Z",
     "shell.execute_reply.started": "2025-07-29T13:06:33.893927Z"
    }
   },
   "outputs": [],
   "source": [
    "from sklearn.svm import SVC\n",
    "from sklearn.ensemble import RandomForestClassifier\n",
    "from xgboost import XGBClassifier\n",
    "from sklearn.metrics import accuracy_score, precision_score, recall_score, f1_score\n",
    "\n",
    "# Classifier definitions\n",
    "classifiers = {\n",
    "    'SVM (Linear)': SVC(kernel='linear'),\n",
    "    'SVM (RBF)': SVC(kernel='rbf'),\n",
    "    'SVM (Poly)': SVC(kernel='poly'),\n",
    "    'SVM (Sigmoid)': SVC(kernel='sigmoid'),\n",
    "    'Random Forest': RandomForestClassifier(n_estimators=100, random_state=42),\n",
    "    'XGBoost': XGBClassifier(use_label_encoder=False, eval_metric='mlogloss', random_state=42)}"
   ]
  },
  {
   "cell_type": "code",
   "execution_count": 93,
   "metadata": {
    "execution": {
     "iopub.execute_input": "2025-07-29T13:07:43.804440Z",
     "iopub.status.busy": "2025-07-29T13:07:43.803840Z",
     "iopub.status.idle": "2025-07-29T13:11:44.954670Z",
     "shell.execute_reply": "2025-07-29T13:11:44.954071Z",
     "shell.execute_reply.started": "2025-07-29T13:07:43.804419Z"
    }
   },
   "outputs": [
    {
     "name": "stdout",
     "output_type": "stream",
     "text": [
      "\n",
      "=== Fold 1 ===\n",
      "SVM (Linear) — Accuracy: 0.9989, Precision: 0.9989, Recall: 0.9990, F1 Score: 0.9989\n",
      "SVM (RBF) — Accuracy: 0.9989, Precision: 0.9990, Recall: 0.9990, F1 Score: 0.9990\n",
      "SVM (Poly) — Accuracy: 0.9993, Precision: 0.9993, Recall: 0.9993, F1 Score: 0.9993\n",
      "SVM (Sigmoid) — Accuracy: 0.9989, Precision: 0.9989, Recall: 0.9990, F1 Score: 0.9989\n",
      "Random Forest — Accuracy: 0.9982, Precision: 0.9983, Recall: 0.9983, F1 Score: 0.9983\n",
      "XGBoost — Accuracy: 0.9940, Precision: 0.9940, Recall: 0.9940, F1 Score: 0.9940\n",
      "---------------------------------------------------------\n",
      "\n",
      "=== Fold 2 ===\n",
      "SVM (Linear) — Accuracy: 0.9993, Precision: 0.9993, Recall: 0.9993, F1 Score: 0.9993\n",
      "SVM (RBF) — Accuracy: 0.9993, Precision: 0.9993, Recall: 0.9993, F1 Score: 0.9993\n",
      "SVM (Poly) — Accuracy: 0.9989, Precision: 0.9990, Recall: 0.9989, F1 Score: 0.9989\n",
      "SVM (Sigmoid) — Accuracy: 0.9993, Precision: 0.9993, Recall: 0.9993, F1 Score: 0.9993\n",
      "Random Forest — Accuracy: 0.9986, Precision: 0.9986, Recall: 0.9986, F1 Score: 0.9986\n",
      "XGBoost — Accuracy: 0.9947, Precision: 0.9948, Recall: 0.9947, F1 Score: 0.9947\n",
      "---------------------------------------------------------\n",
      "\n",
      "=== Fold 3 ===\n",
      "SVM (Linear) — Accuracy: 0.9996, Precision: 0.9997, Recall: 0.9997, F1 Score: 0.9997\n",
      "SVM (RBF) — Accuracy: 0.9996, Precision: 0.9997, Recall: 0.9997, F1 Score: 0.9997\n",
      "SVM (Poly) — Accuracy: 0.9996, Precision: 0.9997, Recall: 0.9997, F1 Score: 0.9997\n",
      "SVM (Sigmoid) — Accuracy: 0.9996, Precision: 0.9997, Recall: 0.9997, F1 Score: 0.9997\n",
      "Random Forest — Accuracy: 0.9989, Precision: 0.9990, Recall: 0.9989, F1 Score: 0.9989\n",
      "XGBoost — Accuracy: 0.9940, Precision: 0.9941, Recall: 0.9938, F1 Score: 0.9939\n",
      "---------------------------------------------------------\n",
      "\n",
      "=== Fold 4 ===\n",
      "SVM (Linear) — Accuracy: 0.9975, Precision: 0.9976, Recall: 0.9975, F1 Score: 0.9975\n",
      "SVM (RBF) — Accuracy: 0.9979, Precision: 0.9979, Recall: 0.9979, F1 Score: 0.9979\n",
      "SVM (Poly) — Accuracy: 0.9979, Precision: 0.9979, Recall: 0.9979, F1 Score: 0.9979\n",
      "SVM (Sigmoid) — Accuracy: 0.9979, Precision: 0.9979, Recall: 0.9979, F1 Score: 0.9979\n",
      "Random Forest — Accuracy: 0.9957, Precision: 0.9958, Recall: 0.9958, F1 Score: 0.9958\n",
      "XGBoost — Accuracy: 0.9890, Precision: 0.9892, Recall: 0.9889, F1 Score: 0.9890\n",
      "---------------------------------------------------------\n",
      "\n",
      "=== Fold 5 ===\n",
      "SVM (Linear) — Accuracy: 0.9986, Precision: 0.9986, Recall: 0.9986, F1 Score: 0.9986\n",
      "SVM (RBF) — Accuracy: 0.9989, Precision: 0.9990, Recall: 0.9989, F1 Score: 0.9989\n",
      "SVM (Poly) — Accuracy: 0.9986, Precision: 0.9986, Recall: 0.9986, F1 Score: 0.9986\n",
      "SVM (Sigmoid) — Accuracy: 0.9993, Precision: 0.9993, Recall: 0.9993, F1 Score: 0.9993\n",
      "Random Forest — Accuracy: 0.9989, Precision: 0.9990, Recall: 0.9989, F1 Score: 0.9989\n",
      "XGBoost — Accuracy: 0.9957, Precision: 0.9959, Recall: 0.9958, F1 Score: 0.9958\n",
      "---------------------------------------------------------\n"
     ]
    }
   ],
   "source": [
    "# Store results\n",
    "results = defaultdict(list)\n",
    "# === Cross-validation loop\n",
    "for fold_idx, (train_idx, val_idx) in enumerate(skf.split(X, y)):\n",
    "    print(f\"\\n=== Fold {fold_idx + 1} ===\")    \n",
    "    X_train, X_val = X[train_idx], X[val_idx]\n",
    "    y_train, y_val = y[train_idx], y[val_idx]\n",
    "    # === Load pretrained model and extract features\n",
    "    new_model = embeds_model(input_shape=X_train.shape[1:])\n",
    "    pretrained_model =  load_model(f'/kaggle/working/aishell_models/model_fold_{fold_idx+1}.keras')\n",
    "    for i, layer in enumerate(pretrained_model.layers[:-1]): \n",
    "        new_model.layers[i].set_weights(layer.get_weights())\n",
    "    for layer in new_model.layers:\n",
    "        layer.trainable = False\n",
    "    model.compile(loss='sparse_categorical_crossentropy',optimizer=SGD(learning_rate=0.01, momentum=0.9),metrics=['accuracy'])\n",
    "    feat_train = new_model.predict(X_train, verbose=0)\n",
    "    feat_val = new_model.predict(X_val, verbose=0)\n",
    "    # === Loop over classifiers\n",
    "    for clf_name, clf in classifiers.items():\n",
    "        clf.fit(feat_train, y_train)\n",
    "        y_pred = clf.predict(feat_val)\n",
    "        acc = accuracy_score(y_val, y_pred)\n",
    "        prec = precision_score(y_val, y_pred, average='macro')\n",
    "        rec = recall_score(y_val, y_pred, average='macro')\n",
    "        f1 = f1_score(y_val, y_pred, average='macro')\n",
    "        results[clf_name].append({\n",
    "            'fold': fold_idx + 1,\n",
    "            'accuracy': acc,\n",
    "            'precision': prec,\n",
    "            'recall': rec,\n",
    "            'f1': f1})\n",
    "        print(f\"{clf_name} — Accuracy: {acc:.4f}, Precision: {prec:.4f}, Recall: {rec:.4f}, F1 Score: {f1:.4f}\")\n",
    "    print('---------------------------------------------------------')"
   ]
  }
 ],
 "metadata": {
  "kaggle": {
   "accelerator": "gpu",
   "dataSources": [
    {
     "datasetId": 7958590,
     "sourceId": 12600237,
     "sourceType": "datasetVersion"
    },
    {
     "datasetId": 7959499,
     "sourceId": 12601490,
     "sourceType": "datasetVersion"
    },
    {
     "datasetId": 7964039,
     "sourceId": 12608000,
     "sourceType": "datasetVersion"
    },
    {
     "datasetId": 7964046,
     "sourceId": 12608020,
     "sourceType": "datasetVersion"
    }
   ],
   "dockerImageVersionId": 31090,
   "isGpuEnabled": true,
   "isInternetEnabled": true,
   "language": "python",
   "sourceType": "notebook"
  },
  "kernelspec": {
   "display_name": "Python 3 (ipykernel)",
   "language": "python",
   "name": "python3"
  },
  "language_info": {
   "codemirror_mode": {
    "name": "ipython",
    "version": 3
   },
   "file_extension": ".py",
   "mimetype": "text/x-python",
   "name": "python",
   "nbconvert_exporter": "python",
   "pygments_lexer": "ipython3",
   "version": "3.12.7"
  }
 },
 "nbformat": 4,
 "nbformat_minor": 4
}
